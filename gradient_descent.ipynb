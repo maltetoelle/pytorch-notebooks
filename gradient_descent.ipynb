{
 "cells": [
  {
   "cell_type": "code",
   "execution_count": 1,
   "metadata": {},
   "outputs": [],
   "source": [
    "import numpy as np\n",
    "import matplotlib.pyplot as plt\n",
    "\n",
    "np.random.seed(42)"
   ]
  },
  {
   "cell_type": "code",
   "execution_count": 2,
   "metadata": {},
   "outputs": [
    {
     "data": {
      "text/plain": [
       "<matplotlib.collections.PathCollection at 0x7fec6b971f70>"
      ]
     },
     "execution_count": 2,
     "metadata": {},
     "output_type": "execute_result"
    },
    {
     "data": {
      "image/png": "[encoded data removed]",
      "text/plain": [
       "<Figure size 432x288 with 1 Axes>"
      ]
     },
     "metadata": {
      "needs_background": "light"
     },
     "output_type": "display_data"
    }
   ],
   "source": [
    "x = np.linspace(0, 3, 100)[:,np.newaxis]\n",
    "\n",
    "f = lambda x, m, b: m * x + b\n",
    "m = 2\n",
    "b = 1\n",
    "\n",
    "y = f(x, m, b) + .1 * np.random.randn(100, 1)\n",
    "\n",
    "plt.scatter(x, y)"
   ]
  },
  {
   "cell_type": "code",
   "execution_count": 3,
   "metadata": {},
   "outputs": [],
   "source": [
    "mse = lambda y, y_hat: ((y - y_hat)**2).mean()\n",
    "\n",
    "mse_dev = lambda y, y_hat: -2 * (y - y_hat)\n",
    "f_dev_m = lambda x, y, y_hat: (x * mse_dev(y, y_hat)).mean()\n",
    "f_dev_b = lambda y, y_hat: mse_dev(y, y_hat).mean()"
   ]
  },
  {
   "cell_type": "code",
   "execution_count": 4,
   "metadata": {},
   "outputs": [
    {
     "name": "stdout",
     "output_type": "stream",
     "text": [
      "[-1.41537074] [-0.42064532]\n",
      "[2.00169758] [0.98816054]\n"
     ]
    }
   ],
   "source": [
    "m = np.random.randn(1)\n",
    "b = np.random.randn(1)\n",
    "print(m, b)\n",
    "\n",
    "lr = 1e-1\n",
    "n_epochs = 100\n",
    "\n",
    "for epoch in range(n_epochs):\n",
    "\n",
    "    y_hat = f(x, m, b)\n",
    "    loss = mse(y, y_hat)\n",
    "    \n",
    "    m_grad = f_dev_m(x, y, y_hat)\n",
    "    b_grad = f_dev_b(y, y_hat)\n",
    "\n",
    "    m = m - lr * m_grad\n",
    "    b = b - lr * b_grad\n",
    "    \n",
    "print(m, b)"
   ]
  },
  {
   "cell_type": "code",
   "execution_count": null,
   "metadata": {},
   "outputs": [],
   "source": []
  }
 ],
 "metadata": {
  "kernelspec": {
   "display_name": "Python 3",
   "language": "python",
   "name": "python3"
  },
  "language_info": {
   "codemirror_mode": {
    "name": "ipython",
    "version": 3
   },
   "file_extension": ".py",
   "mimetype": "text/x-python",
   "name": "python",
   "nbconvert_exporter": "python",
   "pygments_lexer": "ipython3",
   "version": "3.8.5"
  }
 },
 "nbformat": 4,
 "nbformat_minor": 4
}
