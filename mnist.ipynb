{
 "cells": [
  {
   "cell_type": "code",
   "execution_count": 1,
   "metadata": {},
   "outputs": [],
   "source": [
    "import sys\n",
    "from typing import Callable, Union\n",
    "\n",
    "import torch\n",
    "import torch.nn as nn\n",
    "import torch.nn.functional as F\n",
    "from torch.utils.data import DataLoader\n",
    "\n",
    "from torchvision import datasets, transforms\n",
    "from torchvision.utils import make_grid\n",
    "\n",
    "import numpy as np\n",
    "import matplotlib.pyplot as plt\n",
    "from tqdm import tqdm\n",
    "\n",
    "DATA_ROOT = '/mnt/ssd/data'"
   ]
  },
  {
   "cell_type": "code",
   "execution_count": 2,
   "metadata": {},
   "outputs": [],
   "source": [
    "transform = transforms.Compose([transforms.ToTensor(),\n",
    "                                transforms.Normalize((0.1307,), (0.3081,))\n",
    "                               ])\n",
    "\n",
    "train_set = datasets.MNIST(DATA_ROOT, \n",
    "                           download=True, \n",
    "                           train=True,\n",
    "                           transform=transform)\n",
    "test_set = datasets.MNIST(DATA_ROOT, \n",
    "                          download=True, \n",
    "                          train=False,\n",
    "                          transform=transform)"
   ]
  },
  {
   "cell_type": "code",
   "execution_count": 3,
   "metadata": {},
   "outputs": [
    {
     "name": "stderr",
     "output_type": "stream",
     "text": [
      "Clipping input data to the valid range for imshow with RGB data ([0..1] for floats or [0..255] for integers).\n"
     ]
    },
    {
     "data": {
      "image/png": "[encoded data removed]",
      "text/plain": [
       "<Figure size 1440x360 with 1 Axes>"
      ]
     },
     "metadata": {
      "needs_background": "light"
     },
     "output_type": "display_data"
    }
   ],
   "source": [
    "images = [train_set[i][0] for i in range(10)]\n",
    "grid = make_grid(images, nrow=5)\n",
    "fig, ax = plt.subplots(1, 1, figsize=(20,5))\n",
    "ax.imshow(grid.permute(1, 2, 0))\n",
    "plt.axis('off')\n",
    "plt.grid(False)"
   ]
  },
  {
   "cell_type": "code",
   "execution_count": 4,
   "metadata": {},
   "outputs": [],
   "source": [
    "class LeNet5(nn.Module):\n",
    "\n",
    "    def __init__(self, n_classes: int = 10):\n",
    "        super(LeNet5, self).__init__()\n",
    "        \n",
    "        self.feature_extractor = nn.Sequential(            \n",
    "            nn.Conv2d(in_channels=1, out_channels=6, kernel_size=3, stride=1),\n",
    "            nn.Tanh(),\n",
    "            nn.AvgPool2d(kernel_size=2),\n",
    "            nn.Conv2d(in_channels=6, out_channels=16, kernel_size=3, stride=1),\n",
    "            nn.Tanh(),\n",
    "            nn.AvgPool2d(kernel_size=2),\n",
    "            nn.Conv2d(in_channels=16, out_channels=120, kernel_size=3, stride=1),\n",
    "            nn.Tanh()\n",
    "        )\n",
    "\n",
    "        self.classifier = nn.Sequential(\n",
    "            nn.Linear(in_features=1080, out_features=200),\n",
    "            nn.Tanh(),\n",
    "            nn.Linear(in_features=200, out_features=n_classes),\n",
    "        )\n",
    "\n",
    "    def forward(self, x: torch.Tensor) -> torch.Tensor:\n",
    "        x = self.feature_extractor(x)\n",
    "        x = torch.flatten(x, 1)\n",
    "        logits = self.classifier(x)\n",
    "        probs = F.softmax(logits, dim=1)\n",
    "        return logits, probs"
   ]
  },
  {
   "cell_type": "code",
   "execution_count": 5,
   "metadata": {},
   "outputs": [],
   "source": [
    "LR = 1e-3\n",
    "WEIGHT_DECAY = 1e-4\n",
    "N_CLASSES = 10\n",
    "N_EPOCHS = 3\n",
    "BATCH_SIZE = 32\n",
    "DEVICE = 'cuda' if torch.cuda.is_available() else 'cpu'"
   ]
  },
  {
   "cell_type": "code",
   "execution_count": 6,
   "metadata": {},
   "outputs": [],
   "source": [
    "def train_epoch(train_loader: DataLoader, model: nn.Module, criterion: Union[Callable, nn.Module], \n",
    "                optimizer: torch.optim.Optimizer, device: str = 'cpu') -> float:\n",
    "    \n",
    "    model.train()\n",
    "    accs = []\n",
    "    \n",
    "    pbar = tqdm(enumerate(train_loader), file=sys.stdout)\n",
    "    for batch_idx, (X, y) in pbar:\n",
    "        optimizer.zero_grad()\n",
    "        \n",
    "        X = X.to(device)\n",
    "        y = y.to(device)\n",
    "    \n",
    "        logits, probs = model(X)\n",
    "        loss = criterion(logits, y)\n",
    "        \n",
    "        loss.backward()\n",
    "        optimizer.step()\n",
    "        \n",
    "        pred = probs.detach().argmax(dim=1)\n",
    "        acc = (pred == y).sum() / len(probs)\n",
    "        accs.append(acc.item())\n",
    "\n",
    "        pbar.set_description(f'Acc: {acc}')\n",
    "\n",
    "    acc = np.mean(accs)\n",
    "    \n",
    "    return acc"
   ]
  },
  {
   "cell_type": "code",
   "execution_count": 7,
   "metadata": {},
   "outputs": [],
   "source": [
    "def validate(valid_loader: DataLoader, model: nn.Module, device: str = 'cpu') -> float:\n",
    "\n",
    "    model.eval()\n",
    "    accs = []\n",
    "    \n",
    "    pbar = tqdm(valid_loader, file=sys.stdout)\n",
    "    for X, y in pbar:\n",
    "    \n",
    "        X = X.to(device)\n",
    "        y = y.to(device)\n",
    "\n",
    "        logits, probs = model(X) \n",
    "        pred = probs.detach().argmax(dim=1)\n",
    "        acc = (pred == y).sum() / len(probs)\n",
    "        accs.append(acc.item())\n",
    "\n",
    "        pbar.set_description(f'Acc: {acc}')\n",
    "        \n",
    "    acc = np.mean(accs)\n",
    "    \n",
    "    return acc"
   ]
  },
  {
   "cell_type": "code",
   "execution_count": 8,
   "metadata": {},
   "outputs": [],
   "source": [
    "train_loader = DataLoader(train_set, batch_size=BATCH_SIZE, shuffle=True)\n",
    "test_loader = DataLoader(test_set, batch_size=BATCH_SIZE, shuffle=False)\n",
    "\n",
    "model = LeNet5(n_classes=N_CLASSES).to(DEVICE)\n",
    "criterion = nn.CrossEntropyLoss().to(DEVICE)\n",
    "optimizer = torch.optim.Adam(model.parameters(), lr=LR, weight_decay=WEIGHT_DECAY)"
   ]
  },
  {
   "cell_type": "code",
   "execution_count": 9,
   "metadata": {},
   "outputs": [
    {
     "name": "stdout",
     "output_type": "stream",
     "text": [
      "Acc: 1.0: : 1875it [00:10, 181.62it/s]    \n",
      "Acc: 1.0: 100%|██████████| 313/313 [00:01<00:00, 256.22it/s]    \n",
      "Train Acc: 0.9325333333333333 | Test Acc: 0.9674520766773163\n",
      "Acc: 1.0: : 1875it [00:10, 183.21it/s]    \n",
      "Acc: 1.0: 100%|██████████| 313/313 [00:01<00:00, 250.44it/s]    \n",
      "Train Acc: 0.9733666666666667 | Test Acc: 0.9739416932907349\n",
      "Acc: 1.0: : 1875it [00:10, 182.68it/s]    \n",
      "Acc: 1.0: 100%|██████████| 313/313 [00:01<00:00, 252.71it/s]    \n",
      "Train Acc: 0.9803166666666666 | Test Acc: 0.9821285942492013\n"
     ]
    }
   ],
   "source": [
    "train_accs, test_accs = [], []\n",
    "\n",
    "for e in range(N_EPOCHS):\n",
    "    train_acc = train_epoch(train_loader, model, criterion, optimizer, DEVICE)\n",
    "    test_acc = validate(test_loader, model, DEVICE)\n",
    "    \n",
    "    train_accs.append(train_acc)\n",
    "    test_accs.append(test_acc)\n",
    "    \n",
    "    print(f'Train Acc: {train_acc} | Test Acc: {test_acc}')"
   ]
  },
  {
   "cell_type": "code",
   "execution_count": 10,
   "metadata": {},
   "outputs": [
    {
     "data": {
      "text/plain": [
       "<matplotlib.legend.Legend at 0x7fd580277ca0>"
      ]
     },
     "execution_count": 10,
     "metadata": {},
     "output_type": "execute_result"
    },
    {
     "data": {
      "image/png": "[encoded data removed]",
      "text/plain": [
       "<Figure size 432x288 with 1 Axes>"
      ]
     },
     "metadata": {
      "needs_background": "light"
     },
     "output_type": "display_data"
    }
   ],
   "source": [
    "plt.plot(train_accs, label='train')\n",
    "plt.plot(test_accs, label='test')\n",
    "plt.legend()"
   ]
  },
  {
   "cell_type": "code",
   "execution_count": null,
   "metadata": {},
   "outputs": [],
   "source": []
  }
 ],
 "metadata": {
  "kernelspec": {
   "display_name": "Python 3",
   "language": "python",
   "name": "python3"
  },
  "language_info": {
   "codemirror_mode": {
    "name": "ipython",
    "version": 3
   },
   "file_extension": ".py",
   "mimetype": "text/x-python",
   "name": "python",
   "nbconvert_exporter": "python",
   "pygments_lexer": "ipython3",
   "version": "3.8.5"
  }
 },
 "nbformat": 4,
 "nbformat_minor": 4
}
